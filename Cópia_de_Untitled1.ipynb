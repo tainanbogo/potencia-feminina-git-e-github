{
  "nbformat": 4,
  "nbformat_minor": 0,
  "metadata": {
    "colab": {
      "provenance": [],
      "authorship_tag": "ABX9TyNAgESHIpSK/kiHM0702FA2",
      "include_colab_link": true
    },
    "kernelspec": {
      "name": "python3",
      "display_name": "Python 3"
    },
    "language_info": {
      "name": "python"
    }
  },
  "cells": [
    {
      "cell_type": "markdown",
      "metadata": {
        "id": "view-in-github",
        "colab_type": "text"
      },
      "source": [
        "<a href=\"https://colab.research.google.com/github/tainanbogo/potencia-feminina-git-e-github/blob/master/C%C3%B3pia_de_Untitled1.ipynb\" target=\"_parent\"><img src=\"https://colab.research.google.com/assets/colab-badge.svg\" alt=\"Open In Colab\"/></a>"
      ]
    },
    {
      "cell_type": "code",
      "execution_count": null,
      "metadata": {
        "colab": {
          "base_uri": "https://localhost:8080/"
        },
        "id": "g_pzVgVk5UNY",
        "outputId": "66c4fea5-ba08-4053-85ce-2962e7c365e0"
      },
      "outputs": [
        {
          "output_type": "stream",
          "name": "stdout",
          "text": [
            "Dados carregados\n"
          ]
        }
      ],
      "source": [
        "import requests\n",
        "import json\n",
        "import matplotlib.pyplot as plt\n",
        "import pandas as pd\n",
        "\n",
        "\n",
        "url = 'https://import.cdn.thinkific.com/401289/gQbVuYr9TaimUX9dQAqV_enem_2023.json'\n",
        "response = requests.get(url)\n",
        "if response.status_code == 200:\n",
        "  data = response.json()\n",
        "  print('Dados carregados')\n",
        "else:\n",
        "  print('Falha ao carregar os dados')\n"
      ]
    },
    {
      "cell_type": "code",
      "source": [
        "df = pd.DataFrame(data)\n",
        "df = df.apply(pd.to_numeric, errors='coerce')\n",
        "amplitudes = df.max() - df.min()\n",
        "disciplina_maior_amplitude = amplitudes.idxmax()\n",
        "\n",
        "print(f'1) A disciplina com maior amplitude é {disciplina_maior_amplitude}')"
      ],
      "metadata": {
        "colab": {
          "base_uri": "https://localhost:8080/"
        },
        "id": "6Vs7rZl06xDc",
        "outputId": "48390d40-d2e8-47ce-a99f-27243fd02740"
      },
      "execution_count": null,
      "outputs": [
        {
          "output_type": "stream",
          "name": "stdout",
          "text": [
            "1) A disciplina com maior amplitude é Redação\n"
          ]
        }
      ]
    },
    {
      "cell_type": "code",
      "source": [
        "df = df.drop(columns=['Sexo'])\n",
        "df = df.apply(pd.to_numeric, errors='coerce')\n",
        "\n",
        "media_por_disciplina = df.mean()\n",
        "\n",
        "mediana_por_disciplina = df.median()\n",
        "\n",
        "print(\"Média por disciplina:\")\n",
        "print(media_por_disciplina)\n",
        "print(\"\\nMediana por disciplina:\")\n",
        "print(mediana_por_disciplina)"
      ],
      "metadata": {
        "colab": {
          "base_uri": "https://localhost:8080/"
        },
        "id": "zIm_mStb9ZmY",
        "outputId": "381dee54-1648-48fe-9f5b-1cf0bad517ba"
      },
      "execution_count": null,
      "outputs": [
        {
          "output_type": "stream",
          "name": "stdout",
          "text": [
            "Média por disciplina:\n",
            "Linguagens              514.524809\n",
            "Ciências humanas        527.042281\n",
            "Ciências da natureza    499.315583\n",
            "Matemática              535.965660\n",
            "Redação                 637.783532\n",
            "dtype: float64\n",
            "\n",
            "Mediana por disciplina:\n",
            "Linguagens              515.045250\n",
            "Ciências humanas        524.519920\n",
            "Ciências da natureza    500.479263\n",
            "Matemática              533.247767\n",
            "Redação                 635.273973\n",
            "dtype: float64\n"
          ]
        }
      ]
    },
    {
      "cell_type": "code",
      "source": [
        "pesos = {\n",
        "    'Redação': 2,\n",
        "    'Matemática': 4,\n",
        "    'Linguagens': 2,\n",
        "    'Ciências humanas': 1,\n",
        "    'Ciências da natureza': 1\n",
        "}\n",
        "for disciplina, peso in pesos.items():\n",
        "    df[disciplina] *= peso\n",
        "\n",
        "df_sorted = df.sort_values(by='Redação', ascending=False)\n",
        "df_top500 = df_sorted.head(500)\n",
        "media_ponderada = df_top500.mean()\n",
        "\n",
        "desvio_padrao_ponderado = df_top500.std()\n",
        "\n",
        "print(\"Média ponderada das notas dos 500 estudantes mais bem colocados:\")\n",
        "print(media_ponderada)\n",
        "print(\"\\nDesvio padrão das notas ponderadas dos 500 estudantes mais bem colocados:\")\n",
        "print(desvio_padrao_ponderado)"
      ],
      "metadata": {
        "colab": {
          "base_uri": "https://localhost:8080/"
        },
        "id": "owtp1fsq-Ctj",
        "outputId": "c041100b-9817-4a9c-f65c-76399820012d"
      },
      "execution_count": null,
      "outputs": [
        {
          "output_type": "stream",
          "name": "stdout",
          "text": [
            "Média ponderada das notas dos 500 estudantes mais bem colocados:\n",
            "Linguagens              1026.288356\n",
            "Ciências humanas         524.971620\n",
            "Ciências da natureza     498.605241\n",
            "Matemática              2143.235463\n",
            "Redação                 1430.904887\n",
            "dtype: float64\n",
            "\n",
            "Desvio padrão das notas ponderadas dos 500 estudantes mais bem colocados:\n",
            "Linguagens              170.958161\n",
            "Ciências humanas         82.218994\n",
            "Ciências da natureza     79.032261\n",
            "Matemática              364.021757\n",
            "Redação                 150.345802\n",
            "dtype: float64\n"
          ]
        }
      ]
    },
    {
      "cell_type": "code",
      "source": [
        "df_40_vagas = df_top500.head(40)\n",
        "\n",
        "media_40_vagas = df_40_vagas.mean()\n",
        "variancia_40_vagas = df_40_vagas.var()\n",
        "\n",
        "print(\"Média das notas dos estudantes que entraram no curso de Ciência da Computação:\")\n",
        "print(media_40_vagas)\n",
        "print(\"\\nVariância das notas dos estudantes que entraram no curso de Ciência da Computação:\")\n",
        "print(variancia_40_vagas)"
      ],
      "metadata": {
        "colab": {
          "base_uri": "https://localhost:8080/"
        },
        "id": "_pYfO1zy-W7W",
        "outputId": "eea021af-bab7-4c6c-8e93-70581605393d"
      },
      "execution_count": null,
      "outputs": [
        {
          "output_type": "stream",
          "name": "stdout",
          "text": [
            "Média das notas dos estudantes que entraram no curso de Ciência da Computação:\n",
            "Linguagens              1017.506349\n",
            "Ciências humanas         526.522796\n",
            "Ciências da natureza     500.830289\n",
            "Matemática              2116.185678\n",
            "Redação                 1766.803745\n",
            "dtype: float64\n",
            "\n",
            "Variância das notas dos estudantes que entraram no curso de Ciência da Computação:\n",
            "Linguagens               34194.545120\n",
            "Ciências humanas          8179.098443\n",
            "Ciências da natureza      5981.114721\n",
            "Matemática              123500.483488\n",
            "Redação                   5183.955582\n",
            "dtype: float64\n"
          ]
        }
      ]
    },
    {
      "cell_type": "code",
      "source": [
        "q3_matematica = df['Matemática'].quantile(0.75)\n",
        "q3_linguagens = df['Linguagens'].quantile(0.75)\n",
        "\n",
        "teto_q3_matematica = int(q3_matematica) if q3_matematica.is_integer() else int(q3_matematica) + 1\n",
        "teto_q3_linguagens = int(q3_linguagens) if q3_linguagens.is_integer() else int(q3_linguagens) + 1\n",
        "\n",
        "print(\"Teto do terceiro quartil para Matemática:\", teto_q3_matematica)\n",
        "print(\"Teto do terceiro quartil para Linguagens:\", teto_q3_linguagens)"
      ],
      "metadata": {
        "colab": {
          "base_uri": "https://localhost:8080/"
        },
        "id": "x7p81yaV-j-H",
        "outputId": "c458f678-abed-4de9-f8b7-90c5d8c5eba3"
      },
      "execution_count": null,
      "outputs": [
        {
          "output_type": "stream",
          "name": "stdout",
          "text": [
            "Teto do terceiro quartil para Matemática: 2372\n",
            "Teto do terceiro quartil para Linguagens: 1144\n"
          ]
        }
      ]
    },
    {
      "cell_type": "code",
      "source": [
        "bins = range(0, 1000, 20)\n",
        "\n",
        "plt.figure(figsize=(10, 6))\n",
        "plt.hist(df['Redação'], bins=bins, color='blue', alpha=0.7, edgecolor='black')\n",
        "plt.title('Histograma de Redação')\n",
        "plt.xlabel('Nota')\n",
        "plt.ylabel('Frequência')\n",
        "plt.grid(True)\n",
        "plt.show()\n",
        "\n",
        "plt.figure(figsize=(10, 6))\n",
        "plt.hist(df['Linguagens'], bins=bins, color='green', alpha=0.7, edgecolor='black')\n",
        "plt.title('Histograma de Linguagens')\n",
        "plt.xlabel('Nota')\n",
        "plt.ylabel('Frequência')\n",
        "plt.grid(True)\n",
        "plt.show()"
      ],
      "metadata": {
        "colab": {
          "base_uri": "https://localhost:8080/",
          "height": 834
        },
        "id": "a71kq7GH-qk3",
        "outputId": "59856025-f238-4e10-cda7-61dc922dd28f"
      },
      "execution_count": null,
      "outputs": [
        {
          "output_type": "display_data",
          "data": {
            "text/plain": [
              "<Figure size 1000x600 with 1 Axes>"
            ],
            "image/png": "[encoded data removed]"
          },
          "metadata": {}
        },
        {
          "output_type": "display_data",
          "data": {
            "text/plain": [
              "<Figure size 1000x600 with 1 Axes>"
            ],
            "image/png": "[encoded data removed]"
          },
          "metadata": {}
        }
      ]
    }
  ]
}